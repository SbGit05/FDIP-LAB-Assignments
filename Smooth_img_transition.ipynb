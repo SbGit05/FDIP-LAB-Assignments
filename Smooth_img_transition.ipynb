{
 "cells": [
  {
   "cell_type": "code",
   "execution_count": 4,
   "id": "bad7f116-878d-4f5b-a178-688e2372d818",
   "metadata": {},
   "outputs": [],
   "source": [
    "import cv2\n",
    "import os\n",
    "import glob\n",
    "import numpy as np\n",
    "\n",
    "folder_path = \"D:/shreedhar/PCCOE HOMEWORK/3rd Year/Sem 1/PEC - FDIP/Images\"  \n",
    "image_files = glob.glob(os.path.join(folder_path, \"*.jpg\")) \n",
    "\n",
    "image_files.sort()\n",
    "\n",
    "if len(image_files) < 2:\n",
    "    print(\"Need at least 2 images for a slideshow!\")\n",
    "    exit()\n",
    "\n",
    "images = []\n",
    "for f in image_files:\n",
    "    img = cv2.imread(f)\n",
    "    if img is None:\n",
    "        continue\n",
    "    img = cv2.resize(img, (640, 480)) \n",
    "    images.append(img)\n",
    "\n",
    "delay = 1000   \n",
    "steps = 20     \n",
    "\n",
    "for i in range(len(images)):\n",
    "    img1 = images[i]\n",
    "    img2 = images[(i+1) % len(images)]  \n",
    "\n",
    "    cv2.imshow(\"Slideshow\", img1)\n",
    "    cv2.waitKey(delay)\n",
    "\n",
    "    for alpha in np.linspace(0, 1, steps):\n",
    "        beta = 1 - alpha\n",
    "        transition = cv2.addWeighted(img1, beta, img2, alpha, 0)\n",
    "        cv2.imshow(\"Slideshow\", transition)\n",
    "        cv2.waitKey(50)  # control transition speed\n",
    "\n",
    "cv2.destroyAllWindows()\n"
   ]
  },
  {
   "cell_type": "code",
   "execution_count": null,
   "id": "d264e014-e313-4692-9d06-1d8493118cad",
   "metadata": {},
   "outputs": [],
   "source": []
  }
 ],
 "metadata": {
  "kernelspec": {
   "display_name": "Python 3 (ipykernel)",
   "language": "python",
   "name": "python3"
  },
  "language_info": {
   "codemirror_mode": {
    "name": "ipython",
    "version": 3
   },
   "file_extension": ".py",
   "mimetype": "text/x-python",
   "name": "python",
   "nbconvert_exporter": "python",
   "pygments_lexer": "ipython3",
   "version": "3.13.5"
  }
 },
 "nbformat": 4,
 "nbformat_minor": 5
}
